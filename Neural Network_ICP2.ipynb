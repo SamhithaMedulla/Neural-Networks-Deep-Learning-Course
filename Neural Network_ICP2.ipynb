{
  "nbformat": 4,
  "nbformat_minor": 0,
  "metadata": {
    "colab": {
      "provenance": []
    },
    "kernelspec": {
      "name": "python3",
      "display_name": "Python 3"
    },
    "language_info": {
      "name": "python"
    }
  },
  "cells": [
    {
      "cell_type": "code",
      "execution_count": 3,
      "metadata": {
        "colab": {
          "base_uri": "https://localhost:8080/"
        },
        "id": "juc5DvGk_79R",
        "outputId": "0878c67a-a9c7-4776-cf02-d907e8ae411e"
      },
      "outputs": [
        {
          "output_type": "stream",
          "name": "stdout",
          "text": [
            "Employee 1:\n",
            "Name: Dhanalakshmi\n",
            "Family: Nangunuri\n",
            "Salary: $500000\n",
            "Department: IT\n",
            "\n",
            "Employee 2:\n",
            "Name: Basha\n",
            "Family: Shaik\n",
            "Salary: $650000\n",
            "Department: Managment\n",
            "\n",
            "Fulltime Employee 1:\n",
            "Name: Keerthi\n",
            "Family: Peddinti\n",
            "Salary: $800000\n",
            "Department: IT\n",
            "\n",
            "Fulltime Employee 2:\n",
            "Name: Anirudh\n",
            "Family: Pudicheti\n",
            "Salary: $750000\n",
            "Department: IT\n",
            "\n",
            "Average Salary: $675000.00\n",
            "\n",
            "Total number of employees: 4\n"
          ]
        }
      ],
      "source": [
        "class Employee:\n",
        "    employee_count = 0\n",
        "\n",
        "    def __init__(self, name, family, salary, department):\n",
        "        self.name = name\n",
        "        self.family = family\n",
        "        self.salary = salary\n",
        "        self.department = department\n",
        "        Employee.employee_count += 1\n",
        "\n",
        "    @classmethod\n",
        "    def average_salary(my_cls, employees):\n",
        "        if not employees:\n",
        "            return 0\n",
        "        total_salary = sum(employee.salary for employee in employees)\n",
        "        return total_salary / len(employees)\n",
        "\n",
        "    def display_info(self):\n",
        "        print(f\"Name: {self.name}\")\n",
        "        print(f\"Family: {self.family}\")\n",
        "        print(f\"Salary: ${self.salary}\")\n",
        "        print(f\"Department: {self.department}\")\n",
        "\n",
        "\n",
        "class FulltimeEmployee(Employee):\n",
        "    def __init__(self, name, family, salary, department, benefits):\n",
        "        super().__init__(name, family, salary, department)\n",
        "\n",
        "    def display_info(self):\n",
        "        super().display_info()\n",
        "\n",
        "def main():\n",
        "    employee1 = Employee(\"Dhanalakshmi\", \"Nangunuri\", 500000, \"IT\")\n",
        "    employee2 = Employee(\"Basha\", \"Shaik\", 650000, \"Managment\")\n",
        "    fulltime_employee1 = FulltimeEmployee(\"Keerthi\", \"Peddinti\", 800000, \"IT\", \"Health Insurance\")\n",
        "    fulltime_employee2 = FulltimeEmployee(\"Anirudh\", \"Pudicheti\", 750000, \"IT\", \"Health Insurance\")\n",
        "\n",
        "    print(\"Employee 1:\")\n",
        "    employee1.display_info()\n",
        "    print(\"\\nEmployee 2:\")\n",
        "    employee2.display_info()\n",
        "    print(\"\\nFulltime Employee 1:\")\n",
        "    fulltime_employee1.display_info()\n",
        "    print(\"\\nFulltime Employee 2:\")\n",
        "    fulltime_employee2.display_info()\n",
        "    employees = [employee1, employee2, fulltime_employee1, fulltime_employee2]\n",
        "    avg_salary = Employee.average_salary(employees)\n",
        "    print(f\"\\nAverage Salary: ${avg_salary:.2f}\")\n",
        "    print(f\"\\nTotal number of employees: {Employee.employee_count}\")\n",
        "\n",
        "if __name__ == \"__main__\":\n",
        "    main()"
      ]
    },
    {
      "cell_type": "markdown",
      "source": [
        "The program starts in the main() function, where instances of the Employee and FulltimeEmployee classes are created. Each instance is initialized with unique details such as name, family, salary, and department.\n",
        "\n",
        "The constructor initializes instance variables (name, family, salary, department) for each employee. It also updates the class variable employee_count to track the total number of employees and increments the total_salary to track their combined salaries.\n",
        "\n",
        "The FulltimeEmployee class inherits all properties and methods from the Employee class. The super() function is used to initialize the Employee class attributes, and an additional benefits attribute is added for full-time employees.\n",
        "\n",
        "The average_salary class method calculates the average salary by summing up the salaries of all employees and dividing by the total number of employees. It uses the employee_count and total_salary class variables.\n",
        "\n",
        "The program prints the total number of employees using the employee_count class variable. It also prints the average salary using the average_salary method.\n",
        "\n",
        "The display_info method prints the details of each employee, including name, family, salary, and department. The FulltimeEmployee class overrides this method to include benefits."
      ],
      "metadata": {
        "id": "OTfHWxclAEBv"
      }
    },
    {
      "cell_type": "code",
      "source": [
        "import numpy as np\n",
        "\n",
        "array = np.random.uniform(1, 20, 20)\n",
        "\n",
        "reshaped_array = array.reshape(4, 5)\n",
        "\n",
        "max_replacenums = reshaped_array == np.max(reshaped_array, axis=1, keepdims=True)\n",
        "\n",
        "result = np.where(max_replacenums, 0, reshaped_array)\n",
        "\n",
        "print(\"Original vector:\")\n",
        "print(array)\n",
        "print(\"\\nReshaped array (4x5):\")\n",
        "print(reshaped_array)\n",
        "print(\"\\nArray with max values replaced by 0 in each row:\")\n",
        "print(result)"
      ],
      "metadata": {
        "colab": {
          "base_uri": "https://localhost:8080/"
        },
        "id": "_sJWTmNsAJUC",
        "outputId": "6e4473c9-7db0-47e6-915a-7f9bd1c67b21"
      },
      "execution_count": 2,
      "outputs": [
        {
          "output_type": "stream",
          "name": "stdout",
          "text": [
            "Original vector:\n",
            "[17.31438454  1.03810163  8.68387619 14.70236543 19.91157826  2.48851325\n",
            " 15.92148391 12.2127863  16.0692941  12.40129937  9.80806374  2.4517171\n",
            " 19.5983044   5.48669794  6.98993497 16.44792652  3.26651621 14.45508207\n",
            "  5.35974236  5.57519162]\n",
            "\n",
            "Reshaped array (4x5):\n",
            "[[17.31438454  1.03810163  8.68387619 14.70236543 19.91157826]\n",
            " [ 2.48851325 15.92148391 12.2127863  16.0692941  12.40129937]\n",
            " [ 9.80806374  2.4517171  19.5983044   5.48669794  6.98993497]\n",
            " [16.44792652  3.26651621 14.45508207  5.35974236  5.57519162]]\n",
            "\n",
            "Array with max values replaced by 0 in each row:\n",
            "[[17.31438454  1.03810163  8.68387619 14.70236543  0.        ]\n",
            " [ 2.48851325 15.92148391 12.2127863   0.         12.40129937]\n",
            " [ 9.80806374  2.4517171   0.          5.48669794  6.98993497]\n",
            " [ 0.          3.26651621 14.45508207  5.35974236  5.57519162]]\n"
          ]
        }
      ]
    },
    {
      "cell_type": "markdown",
      "source": [
        "The program starts by importing numpy and creating a random array of 20 numbers between 1 and 20. The array is reshaped into a 4x5 format for easier row and column operations. The largest number in each row is found using np.max with axis=1. The largest number in each row is replaced with 0 using np.where. The program prints both the original array and the modified array where the maximum values are replaced by 0."
      ],
      "metadata": {
        "id": "7IYhG0TgATBP"
      }
    }
  ]
}