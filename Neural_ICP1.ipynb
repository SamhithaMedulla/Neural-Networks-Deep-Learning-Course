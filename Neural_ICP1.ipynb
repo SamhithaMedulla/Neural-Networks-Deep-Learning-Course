{
  "nbformat": 4,
  "nbformat_minor": 0,
  "metadata": {
    "colab": {
      "provenance": []
    },
    "kernelspec": {
      "name": "python3",
      "display_name": "Python 3"
    },
    "language_info": {
      "name": "python"
    }
  },
  "cells": [
    {
      "cell_type": "code",
      "execution_count": 1,
      "metadata": {
        "colab": {
          "base_uri": "https://localhost:8080/"
        },
        "id": "-Bbbf5xiRoFM",
        "outputId": "3667e17e-ee3b-43c2-ad67-d99d5a286684"
      },
      "outputs": [
        {
          "output_type": "stream",
          "name": "stdout",
          "text": [
            "your first name: Good\n",
            "your last name: evening\n",
            "your full name: Good evening\n",
            "Go vnn\n"
          ]
        }
      ],
      "source": [
        "def string_alternative(first_name, last_name):\n",
        "    space =' '\n",
        "    Entire_name = first_name + space + last_name\n",
        "    result = Entire_name[::2]\n",
        "    return result\n",
        "\n",
        "\n",
        "if __name__ == \"__main__\":\n",
        "    first_name = input(\"your first name: \")\n",
        "    last_name = input(\"your last name: \")\n",
        "    Full_name = input(\"your full name: \")\n",
        "    result = string_alternative(first_name, last_name)\n",
        "    print(result)"
      ]
    },
    {
      "cell_type": "markdown",
      "source": [
        "The program initiates in the main function, prompting the user to enter their first_name, last_name, and Full_name (although the Full_name input is not utilized).\n",
        "The string_alternative function is called with the first_name and last_name as arguments.\n",
        "Within the function, the first_name and last_name are concatenated with a space, forming the Entire_name string.\n",
        "Slicing ([::2]) is applied to Entire_name, extracting every alternate character, which is then stored in the result variable.\n",
        "The result is returned to the main function, where it is displayed as the final output."
      ],
      "metadata": {
        "id": "UAsdrfvATzra"
      }
    },
    {
      "cell_type": "code",
      "source": [
        "if __name__ == \"__main__\":\n",
        "    with open(\"input.txt\", \"r\") as file:\n",
        "        description = file.read()\n",
        "        word_list = description.split()\n",
        "\n",
        "    with open('output.txt', \"w\") as file:\n",
        "        file.write(description + \"\\n\")\n",
        "        file.write(\"Word_Count:\\n\")\n",
        "        words = []\n",
        "        for item in word_list:\n",
        "            if item not in words:\n",
        "                words.append(item)\n",
        "                word_count = word_list.count(item)\n",
        "                file.write(f\"{item}: {word_count}\\n\")"
      ],
      "metadata": {
        "id": "_lfunVDeRyQ5"
      },
      "execution_count": 7,
      "outputs": []
    },
    {
      "cell_type": "markdown",
      "source": [
        "The program opens and reads the contents of input.txt, storing the text in description and splitting it into a list of words (word_list).\n",
        "It then opens output.txt for writing, starting with the original content from description.\n",
        "The program writes a \"Word_Count:\" label to output.txt to introduce the word count section.\n",
        "A loop iterates through word_list, adding unique words to a words list, and counting occurrences of each word.\n",
        "Each word and its corresponding count are written to output.txt, followed by a newline for each word."
      ],
      "metadata": {
        "id": "VclrTnUsXZfP"
      }
    },
    {
      "cell_type": "code",
      "source": [
        "def convert_heights_nestedloop(height_inches):\n",
        "    heights_in_cm = []\n",
        "    for height in height_inches:\n",
        "        height_cm = round(height * 2.54, 2)\n",
        "        heights_in_cm.append(height_cm)\n",
        "    return heights_in_cm\n",
        "\n",
        "def main():\n",
        "    heights_input = input(\"Enter heights in inches (e.g., [150, 155, 145, 148]): \")\n",
        "    height_inches = list(map(int, heights_input.strip('[]').split(',')))\n",
        "    heights_in_cm_loop = convert_heights_nestedloop(height_inches)\n",
        "\n",
        "    # Print the results\n",
        "    print(f\"Heights in Inches: {height_inches}\")\n",
        "    print(f\"Converted Heights in Centimeters : {heights_in_cm_loop}\")\n",
        "\n",
        "if __name__ == \"__main__\":\n",
        "    main()"
      ],
      "metadata": {
        "colab": {
          "base_uri": "https://localhost:8080/"
        },
        "id": "dt12W8PmSc4q",
        "outputId": "24694f8f-12e0-4f90-d8ad-117edd3f9c09"
      },
      "execution_count": 5,
      "outputs": [
        {
          "output_type": "stream",
          "name": "stdout",
          "text": [
            "Enter heights in inches (e.g., [150, 155, 145, 148]): 150,155,145,148\n",
            "Heights in Inches: [150, 155, 145, 148]\n",
            "Converted Heights in Centimeters : [381.0, 393.7, 368.3, 375.92]\n"
          ]
        }
      ]
    },
    {
      "cell_type": "markdown",
      "source": [
        "The function convert_heights_nestedloop takes a list of heights in inches and converts each to centimeters using a conversion factor of 2.54.\n",
        "The main function prompts the user to enter a list of heights in inches, then processes the input into a list of integers.\n",
        "It calls convert_heights_nestedloop to convert the heights from inches to centimeters.\n",
        "The original list of heights in inches and the converted heights in centimeters are printed.\n",
        "The program runs by calling the main function under the if __name__ == \"__main__\" block."
      ],
      "metadata": {
        "id": "YFwAewiRXlhV"
      }
    },
    {
      "cell_type": "code",
      "source": [
        "def convert_heights_lstcomprehension(heights_inches):\n",
        "    return [round(height * 2.54, 2) for height in heights_inches]\n",
        "\n",
        "def main():\n",
        "    heights_input = input(\"Enter heights in inches (e.g., [150, 155, 145, 148]): \")\n",
        "    heights_inches = list(map(int, heights_input.strip('[]').split(',')))\n",
        "    heights_list_comprehension = convert_heights_lstcomprehension(heights_inches)\n",
        "    print(f\"Heights in Inches: {heights_inches}\")\n",
        "    print(f\"Converted Heights in Centimeters: {heights_list_comprehension}\")\n",
        "\n",
        "if __name__ == \"__main__\":\n",
        "    main()"
      ],
      "metadata": {
        "colab": {
          "base_uri": "https://localhost:8080/"
        },
        "id": "ptefffs9Sh0U",
        "outputId": "1b182c09-e2a6-476d-dc03-825cace946dc"
      },
      "execution_count": 6,
      "outputs": [
        {
          "output_type": "stream",
          "name": "stdout",
          "text": [
            "Enter heights in inches (e.g., [150, 155, 145, 148]): 150,155,145,148\n",
            "Heights in Inches: [150, 155, 145, 148]\n",
            "Converted Heights in Centimeters: [381.0, 393.7, 368.3, 375.92]\n"
          ]
        }
      ]
    },
    {
      "cell_type": "markdown",
      "source": [
        "The function convert_heights_lstcomprehension uses list comprehension to convert a list of heights from inches to centimeters by multiplying each height by 2.54.\n",
        "In the main function, the user is prompted to input a list of heights in inches, which is then converted into a list of integers.\n",
        "The convert_heights_lstcomprehension function is called to convert the heights to centimeters using the list comprehension approach.\n",
        "Both the original heights in inches and the converted heights in centimeters are printed.\n",
        "The program is executed when the main function is called under the if __name__ == \"__main__\" block."
      ],
      "metadata": {
        "id": "HVe43CN3XwvJ"
      }
    },
    {
      "cell_type": "markdown",
      "source": [],
      "metadata": {
        "id": "HNf8sF2_Tncn"
      }
    }
  ]
}